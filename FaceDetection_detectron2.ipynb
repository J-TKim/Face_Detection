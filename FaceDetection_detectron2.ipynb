{
  "nbformat": 4,
  "nbformat_minor": 0,
  "metadata": {
    "colab": {
      "name": "FaceDetection_detectron2.ipynb",
      "provenance": [],
      "collapsed_sections": []
    },
    "kernelspec": {
      "name": "python3",
      "display_name": "Python 3"
    },
    "language_info": {
      "name": "python"
    },
    "accelerator": "GPU"
  },
  "cells": [
    {
      "cell_type": "markdown",
      "metadata": {
        "id": "YuQ1-3nu0ytd"
      },
      "source": [
        "# Face Detection with Detectron2\n",
        "\n",
        "<img src=\"https://dl.fbaipublicfiles.com/detectron2/Detectron2-Logo-Horz.png\" width=\"500\">"
      ]
    },
    {
      "cell_type": "markdown",
      "metadata": {
        "id": "vrqYszhI00ac"
      },
      "source": [
        "## 1. Install detectron2"
      ]
    },
    {
      "cell_type": "code",
      "metadata": {
        "id": "LJPHEWwa0xsO"
      },
      "source": [
        "# install dependencies: \n",
        "!pip install pyyaml==5.1\n",
        "import torch, torchvision\n",
        "print(torch.__version__, torch.cuda.is_available())\n",
        "!gcc --version\n",
        "# opencv is pre-installed on colab"
      ],
      "execution_count": null,
      "outputs": []
    },
    {
      "cell_type": "code",
      "metadata": {
        "id": "wQkdg2Kn01Uv"
      },
      "source": [
        "# install detectron2: (Colab has CUDA 10.1 + torch 1.8)\n",
        "# See https://detectron2.readthedocs.io/tutorials/install.html for instructions\n",
        "import torch\n",
        "assert torch.__version__.startswith(\"1.8\")   # need to manually install torch 1.8 if Colab changes its default version\n",
        "!pip install detectron2 -f https://dl.fbaipublicfiles.com/detectron2/wheels/cu101/torch1.8/index.html\n",
        "exit(0)  # After installation, you need to \"restart runtime\" in Colab. This line can also restart runtime"
      ],
      "execution_count": null,
      "outputs": []
    },
    {
      "cell_type": "markdown",
      "metadata": {
        "id": "JgjgxZ8exxac"
      },
      "source": [
        "## 2. Import drive to use custom data (colab)"
      ]
    },
    {
      "cell_type": "code",
      "metadata": {
        "id": "s9X0F882xKOL"
      },
      "source": [
        "from google.colab import drive\n",
        "drive.mount('/content/drive')"
      ],
      "execution_count": null,
      "outputs": []
    },
    {
      "cell_type": "markdown",
      "metadata": {
        "id": "XnJAocoKx6OH"
      },
      "source": [
        "## 3. Import modules"
      ]
    },
    {
      "cell_type": "code",
      "metadata": {
        "id": "wSuY3guz02Km"
      },
      "source": [
        "# Some basic setup:\n",
        "# Setup detectron2 logger\n",
        "import detectron2\n",
        "from detectron2.utils.logger import setup_logger\n",
        "setup_logger()\n",
        "\n",
        "# import some common libraries\n",
        "import numpy as np\n",
        "import os, json, cv2, random\n",
        "from google.colab.patches import cv2_imshow\n",
        "\n",
        "# import some common detectron2 utilities\n",
        "from detectron2 import model_zoo\n",
        "from detectron2.engine import DefaultPredictor\n",
        "from detectron2.config import get_cfg\n",
        "from detectron2.utils.visualizer import Visualizer\n",
        "from detectron2.data import MetadataCatalog, DatasetCatalog"
      ],
      "execution_count": null,
      "outputs": []
    },
    {
      "cell_type": "markdown",
      "metadata": {
        "id": "u54hszVsx9SO"
      },
      "source": [
        "## 4. Load dataset (json)"
      ]
    },
    {
      "cell_type": "code",
      "metadata": {
        "id": "Swyy6BiRRsEq"
      },
      "source": [
        "PATH = '/content/drive/MyDrive/Colab_Notebooks/dataset/od_custom/'"
      ],
      "execution_count": null,
      "outputs": []
    },
    {
      "cell_type": "code",
      "metadata": {
        "id": "vV7rCG072X5d"
      },
      "source": [
        "import json\n",
        "\n",
        "train_dataset_path = PATH + 'train/'\n",
        "with open(train_dataset_path + 'via_region_data.json', 'r') as f:\n",
        "  train_data = json.load(f)"
      ],
      "execution_count": null,
      "outputs": []
    },
    {
      "cell_type": "code",
      "metadata": {
        "id": "_3tKB0pd2ZXG"
      },
      "source": [
        "train_dataset_lst = [\n",
        "  {\n",
        "    'file_name': train_dataset_path + i['filename'],\n",
        "    # 'height': 256, 'width': 256,\n",
        "    'image_id': k,\n",
        "    'annotations': [{\n",
        "      'bbox_mode': detectron2.structures.BoxMode.XYWH_ABS,\n",
        "      'bbox': [r['shape_attributes']['x'], r['shape_attributes']['y'], r['shape_attributes']['width'] - r['shape_attributes']['x'], r['shape_attributes']['height'] - r['shape_attributes']['y']],\n",
        "      'category_id': 0\n",
        "    } for r in i['regions']]\n",
        "  }\n",
        "  for k, i in train_data.items() if i['regions']\n",
        "]\n",
        "\n",
        "len(train_dataset_lst)"
      ],
      "execution_count": null,
      "outputs": []
    },
    {
      "cell_type": "markdown",
      "metadata": {
        "id": "bip8tJmR6qRj"
      },
      "source": [
        "data example"
      ]
    },
    {
      "cell_type": "code",
      "metadata": {
        "id": "3fNnXil_2afb"
      },
      "source": [
        "train_dataset_lst[0]"
      ],
      "execution_count": null,
      "outputs": []
    },
    {
      "cell_type": "code",
      "metadata": {
        "id": "4Dy6jR9n2p-u"
      },
      "source": [
        "val_dataset_path = PATH + 'val/'\n",
        "with open(val_dataset_path + '/via_region_data.json', 'r') as f:\n",
        "  test_data = json.load(f)"
      ],
      "execution_count": null,
      "outputs": []
    },
    {
      "cell_type": "code",
      "metadata": {
        "id": "Ebh8Vz3f2t90"
      },
      "source": [
        "test_dataset_lst = [\n",
        "  {\n",
        "    'file_name': val_dataset_path + i['filename'],\n",
        "    # 'height': 256, 'width':256,\n",
        "    'image_id': k,\n",
        "    'annotations': [{\n",
        "      'bbox_mode': detectron2.structures.BoxMode.XYWH_ABS,\n",
        "      'bbox': [r['shape_attributes']['x'], r['shape_attributes']['y'], r['shape_attributes']['width'] - r['shape_attributes']['x'], r['shape_attributes']['height'] - r['shape_attributes']['y']],\n",
        "      'category_id': 0\n",
        "    } for r in i['regions']]\n",
        "  }\n",
        "  for k, i in test_data.items() if i['regions']\n",
        "]\n",
        "\n",
        "len(test_dataset_lst)"
      ],
      "execution_count": null,
      "outputs": []
    },
    {
      "cell_type": "code",
      "metadata": {
        "id": "2sUfYLM32tuO"
      },
      "source": [
        "train_dataset = train_dataset_lst\n",
        "\n",
        "DatasetCatalog.clear()\n",
        "MetadataCatalog.clear()\n",
        "\n",
        "DatasetCatalog.register(\"face_train\", lambda: train_dataset)\n",
        "MetadataCatalog.get(\"face_train\").set(thing_classes=['face'])"
      ],
      "execution_count": null,
      "outputs": []
    },
    {
      "cell_type": "markdown",
      "metadata": {
        "id": "PrOdMA2V60N_"
      },
      "source": [
        "## 5. Visualizing dataset (train)"
      ]
    },
    {
      "cell_type": "code",
      "metadata": {
        "id": "p7XAJdCk2zrK"
      },
      "source": [
        "for i, data in enumerate(train_dataset[:2]):\n",
        "    img = cv2.imread(data[\"file_name\"])\n",
        "    visualizer = Visualizer(img[:, :, ::-1], metadata=MetadataCatalog.get(\"face_train\"), scale=1)\n",
        "\n",
        "    start_point =(data['annotations'][0]['bbox'][0], data['annotations'][0]['bbox'][1])\n",
        "    end_point =(data['annotations'][0]['bbox'][2], data['annotations'][0]['bbox'][3])\n",
        "\n",
        "    out = visualizer.draw_dataset_dict(data)\n",
        "\n",
        "    cv2.rectangle(out.get_image()[:, :, ::-1], start_point, end_point, (200,0,0), 2)\n",
        "    cv2_imshow(out.get_image()[:, :, ::-1])\n",
        "    print(i+1, data[\"file_name\"])"
      ],
      "execution_count": null,
      "outputs": []
    },
    {
      "cell_type": "markdown",
      "metadata": {
        "id": "1SMUZ0Hf69Lv"
      },
      "source": [
        "## 6. Set Model, Hyperparameter & Train model"
      ]
    },
    {
      "cell_type": "code",
      "metadata": {
        "id": "GXGvmQYh2zmR"
      },
      "source": [
        "from detectron2.engine import DefaultTrainer\n",
        "\n",
        "cfg = get_cfg()\n",
        "\n",
        "cfg.merge_from_file(model_zoo.get_config_file(\"COCO-Detection/faster_rcnn_R_101_FPN_3x.yaml\"))\n",
        "cfg.DATASETS.TRAIN = (\"face_train\",)\n",
        "cfg.DATASETS.TEST = ()\n",
        "cfg.DATALOADER.NUM_WORKERS = 6\n",
        "cfg.MODEL.WEIGHTS = model_zoo.get_checkpoint_url(\"COCO-Detection/faster_rcnn_R_101_FPN_3x.yaml\")  # Let training initialize from model zoo\n",
        "cfg.SOLVER.IMS_PER_BATCH = 6\n",
        "cfg.SOLVER.BASE_LR = 0.01  # pick a good LR\n",
        "cfg.SOLVER.MAX_ITER = 500\n",
        "cfg.MODEL.ROI_HEADS.BATCH_SIZE_PER_IMAGE = 128   # faster, and good enough for this toy dataset (default: 512)\n",
        "cfg.MODEL.ROI_HEADS.NUM_CLASSES = 1  # only has one class (face)\n",
        "\n",
        "# cfg.MODEL.ROI_HEADS.SCORE_THRESH_TEST = 0.8\n",
        "\n",
        "model_path = PATH + \"models/faster_rcnn_r101_fpn\"\n",
        "cfg.OUTPUT_DIR = model_path\n",
        "os.makedirs(cfg.OUTPUT_DIR, exist_ok=True)\n",
        "\n",
        "trainer = DefaultTrainer(cfg)\n",
        "trainer.resume_or_load(resume=False)\n",
        "trainer.train()"
      ],
      "execution_count": null,
      "outputs": []
    },
    {
      "cell_type": "markdown",
      "metadata": {
        "id": "8U6b_LB2UVIN"
      },
      "source": [
        "## 7.Load model to test"
      ]
    },
    {
      "cell_type": "code",
      "metadata": {
        "id": "SnpOEHer4OSJ"
      },
      "source": [
        "# cfg already contains everything we've set previously. Now we changed it a little bit for inference:\n",
        "cfg = get_cfg()\n",
        "\n",
        "cfg.merge_from_file(model_zoo.get_config_file(\"COCO-Detection/faster_rcnn_R_101_FPN_3x.yaml\"))\n",
        "cfg.DATALOADER.NUM_WORKERS = 20\n",
        "cfg.MODEL.ROI_HEADS.NUM_CLASSES = 1  # only has one class (face)\n",
        "\n",
        "# cfg.MODEL.DEVICE='cpu'\n",
        "cfg.MODEL.ROI_HEADS.SCORE_THRESH_TEST = 0.8\n",
        "\n",
        "model_path = PATH + 'models/faster_rcnn_r101_fpn'\n",
        "cfg.OUTPUT_DIR = model_path\n",
        "cfg.MODEL.WEIGHTS = os.path.join(cfg.OUTPUT_DIR, \"model_final.pth\")  # path to the model we just trained\n",
        "predictor = DefaultPredictor(cfg)"
      ],
      "execution_count": null,
      "outputs": []
    },
    {
      "cell_type": "markdown",
      "metadata": {
        "id": "LM3mWn8E7E6O"
      },
      "source": [
        "## 8. Test with test another dataset"
      ]
    },
    {
      "cell_type": "code",
      "metadata": {
        "id": "XifLPVUT4Yq_"
      },
      "source": [
        "test_dataset = [d for d in test_dataset_lst]\n",
        "\n",
        "pred = []\n",
        "real = []\n",
        "\n",
        "#for i, d in random.sample(list(enumerate(te)), 10):\n",
        "for i, data in enumerate(test_dataset[::1]):\n",
        "    img = cv2.imread(data[\"file_name\"])\n",
        "    outputs = predictor(img)  # format is documented at https://detectron2.readthedocs.io/tutorials/models.html#model-output-format\n",
        "    v = Visualizer(img[:, :, ::-1], metadata=MetadataCatalog.get(\"face_train\"), scale=1)\n",
        "    out = v.draw_instance_predictions(outputs[\"instances\"].to(\"cpu\"))\n",
        "    cv2_imshow(out.get_image()[:, :, ::-1])\n",
        "    print(i+1, data[\"file_name\"])\n",
        "\n",
        "    pred.append(len(data['annotations']))\n",
        "    real.append(np.array(outputs[\"instances\"].to(\"cpu\").scores > 0.8).sum())"
      ],
      "execution_count": null,
      "outputs": []
    },
    {
      "cell_type": "code",
      "metadata": {
        "id": "AIrJyxpXqJp2"
      },
      "source": [
        "# Test with another data\n",
        "\n",
        "test_image_path = \"/content/drive/MyDrive/Colab_Notebooks/dataset/od_custom/images.jfif\"\n",
        "img = cv2.imread(test_image_path)\n",
        "outputs = predictor(img)  # format is documented at https://detectron2.readthedocs.io/tutorials/models.html#model-output-format\n",
        "v = Visualizer(img[:, :, ::-1], metadata=MetadataCatalog.get(\"face_train\"), scale=1)\n",
        "out = v.draw_instance_predictions(outputs[\"instances\"].to(\"cpu\"))\n",
        "cv2_imshow(out.get_image()[:, :, ::-1])"
      ],
      "execution_count": null,
      "outputs": []
    }
  ]
}